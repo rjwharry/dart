{
 "cells": [
  {
   "cell_type": "code",
   "execution_count": 2,
   "metadata": {},
   "outputs": [
    {
     "data": {
      "application/vnd.jupyter.widget-view+json": {
       "model_id": "1a52552d83924d0f8ac7d65152b0bcf3",
       "version_major": 2,
       "version_minor": 0
      },
      "text/plain": [
       "Annual reports:   0%|          | 0/2 [00:00<?, ?report/s]"
      ]
     },
     "metadata": {},
     "output_type": "display_data"
    },
    {
     "data": {
      "text/plain": [
       "'/Users/dudaji/gitRepo/dart/fsdata/00266961_annual.xlsx'"
      ]
     },
     "execution_count": 2,
     "metadata": {},
     "output_type": "execute_result"
    }
   ],
   "source": [
    "import os\n",
    "import dart_fss as dart\n",
    "\n",
    "corp_name = \"NAVER\"\n",
    "# Open DART API KEY 설정\n",
    "api_key=os.getenv(\"DART_API_KEY\")\n",
    "dart.set_api_key(api_key=api_key)\n",
    "\n",
    "# DART 에 공시된 회사 리스트 불러오기\n",
    "corp_list = dart.get_corp_list()\n",
    "\n",
    "corp = corp_list.find_by_corp_name(corp_name, exactly=True)[0]\n",
    "\n",
    "# 2022년부터 연간 연결재무제표 불러오기\n",
    "fs = corp.extract_fs(bgn_de='20220101')\n",
    "\n",
    "# 재무제표 검색 결과를 엑셀파일로 저장 ( 기본저장위치: 실행폴더/fsdata )\n",
    "fs.save()"
   ]
  },
  {
   "cell_type": "code",
   "execution_count": null,
   "metadata": {},
   "outputs": [],
   "source": []
  }
 ],
 "metadata": {
  "kernelspec": {
   "display_name": "dart",
   "language": "python",
   "name": "python3"
  },
  "language_info": {
   "codemirror_mode": {
    "name": "ipython",
    "version": 3
   },
   "file_extension": ".py",
   "mimetype": "text/x-python",
   "name": "python",
   "nbconvert_exporter": "python",
   "pygments_lexer": "ipython3",
   "version": "3.8.17"
  },
  "orig_nbformat": 4
 },
 "nbformat": 4,
 "nbformat_minor": 2
}
